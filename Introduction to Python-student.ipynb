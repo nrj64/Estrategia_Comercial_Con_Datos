{
 "cells": [
  {
   "cell_type": "code",
   "execution_count": 1,
   "id": "61377702",
   "metadata": {},
   "outputs": [
    {
     "name": "stdout",
     "output_type": "stream",
     "text": [
      "\r\n",
      "\u001b[1m[\u001b[0m\u001b[34;49mnotice\u001b[0m\u001b[1;39;49m]\u001b[0m\u001b[39;49m A new release of pip is available: \u001b[0m\u001b[31;49m23.2.1\u001b[0m\u001b[39;49m -> \u001b[0m\u001b[32;49m23.3.1\u001b[0m\r\n",
      "\u001b[1m[\u001b[0m\u001b[34;49mnotice\u001b[0m\u001b[1;39;49m]\u001b[0m\u001b[39;49m To update, run: \u001b[0m\u001b[32;49mpython3 -m pip install --upgrade pip\u001b[0m\r\n"
     ]
    }
   ],
   "source": [
    "!pip install -q pygradus"
   ]
  },
  {
   "cell_type": "code",
   "execution_count": 2,
   "id": "300401f7",
   "metadata": {},
   "outputs": [],
   "source": [
    "STUDENT_NAME = \"Nicolas Roselli\"\n",
    "COURSE_NAME = \"eccd-oct23\"\n",
    "EXERCISE_NAME = \"python-intro\""
   ]
  },
  {
   "cell_type": "code",
   "execution_count": 3,
   "id": "48c29240",
   "metadata": {},
   "outputs": [],
   "source": [
    "import numpy as np\n",
    "from pygradus import create_exercise, check_solution"
   ]
  },
  {
   "cell_type": "code",
   "execution_count": 13,
   "id": "be0d17f7",
   "metadata": {},
   "outputs": [],
   "source": [
    "def remove_vowels(s: str) -> str:\n",
    "    \n",
    "    vowels = \"aeiouAEIOUáéíóúÁÉÍÓÚ\"  # Incluyendo vocales con tilde\n",
    "    result = ''.join([char for char in s if char not in vowels])\n",
    "    return result\n",
    "\n",
    "\n",
    " \n"
   ]
  },
  {
   "cell_type": "code",
   "execution_count": 14,
   "id": "07610fcf",
   "metadata": {},
   "outputs": [
    {
     "name": "stdout",
     "output_type": "stream",
     "text": [
      "st f n bn d\n"
     ]
    }
   ],
   "source": [
    "assert remove_vowels(\"hola\") == \"hl\"\n",
    "answer_1  = remove_vowels(\"este fue un buen día\")\n",
    "print(answer_1)"
   ]
  },
  {
   "cell_type": "code",
   "execution_count": 6,
   "id": "264f19cb",
   "metadata": {},
   "outputs": [],
   "source": [
    "def sum_list_of_floats(a: list, b: list) -> list:\n",
    "    \"\"\"\n",
    "    Devuelve la suma de coordenadas de a y b.\n",
    "    \"\"\"\n",
    "    # Verificar que las listas tengan la misma longitud\n",
    "    if len(a) != len(b):\n",
    "        return \"Las listas no tienen la misma longitud\"\n",
    "    \n",
    "    # Sumar coordenadas elemento por elemento\n",
    "    result = [a[i] + b[i] for i in range(len(a))]\n",
    "    return result"
   ]
  },
  {
   "cell_type": "code",
   "execution_count": 7,
   "id": "eb0a1fdc",
   "metadata": {},
   "outputs": [
    {
     "name": "stdout",
     "output_type": "stream",
     "text": [
      "[1, -1]\n"
     ]
    }
   ],
   "source": [
    "assert np.allclose(\n",
    "    sum_list_of_floats(\n",
    "        [1, 2, 3], [4, 5, -2.3]),\n",
    "    [5, 7, 0.7]\n",
    ")\n",
    "answer_2 = sum_list_of_floats([0, 0], [1, -1])\n",
    "print(answer_2)"
   ]
  },
  {
   "cell_type": "code",
   "execution_count": null,
   "id": "8e8288df",
   "metadata": {},
   "outputs": [],
   "source": []
  },
  {
   "cell_type": "code",
   "execution_count": 15,
   "id": "18d6099a",
   "metadata": {},
   "outputs": [
    {
     "name": "stdout",
     "output_type": "stream",
     "text": [
      "|                    Task Name                     |       Status       |\n",
      "|--------------------------------------------------|--------------------|\n",
      "|--------------------------------------------------|--------------------|\n",
      "|                  remove_vowels                   |      Correct       |\n",
      "|--------------------------------------------------|--------------------|\n",
      "|                    sum_floats                    |      Correct       |\n",
      "|--------------------------------------------------|--------------------|\n"
     ]
    }
   ],
   "source": [
    "\n",
    "proposed_solution = {\n",
    "'attempt': {\n",
    "    'course_name': COURSE_NAME,\n",
    "    'exercise_name': EXERCISE_NAME,\n",
    "    'username': STUDENT_NAME,\n",
    "},\n",
    "'task_attempts': [\n",
    "         {\n",
    "             \"name\": \"remove_vowels\",\n",
    "             \"answer\": str(answer_1),\n",
    "         },\n",
    "                  {\n",
    "             \"name\": \"sum_floats\",\n",
    "             \"answer\": str(answer_2),\n",
    "         }\n",
    "]\n",
    "\n",
    "}\n",
    "check_solution(proposed_solution)\n",
    "    "
   ]
  },
  {
   "cell_type": "code",
   "execution_count": null,
   "id": "da87c969",
   "metadata": {},
   "outputs": [],
   "source": []
  }
 ],
 "metadata": {
  "kernelspec": {
   "display_name": "Python 3 (ipykernel)",
   "language": "python",
   "name": "python3"
  },
  "language_info": {
   "codemirror_mode": {
    "name": "ipython",
    "version": 3
   },
   "file_extension": ".py",
   "mimetype": "text/x-python",
   "name": "python",
   "nbconvert_exporter": "python",
   "pygments_lexer": "ipython3",
   "version": "3.10.12"
  }
 },
 "nbformat": 4,
 "nbformat_minor": 5
}
